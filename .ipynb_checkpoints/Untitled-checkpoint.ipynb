{
 "cells": [
  {
   "cell_type": "code",
   "execution_count": 1,
   "metadata": {},
   "outputs": [],
   "source": [
    "import nltk\n",
    "import os\n",
    "import json\n",
    "import pandas as pd\n",
    "from tqdm import tqdm\n",
    "import string\n",
    "from nltk.corpus import stopwords\n",
    "from nltk.stem.snowball import SnowballStemmer\n",
    "from nltk.tokenize import word_tokenize"
   ]
  },
  {
   "cell_type": "code",
   "execution_count": 2,
   "metadata": {},
   "outputs": [],
   "source": [
    "dirs=[\"biorxiv_medrxiv\"]\n",
    "docs=[]"
   ]
  },
  {
   "cell_type": "code",
   "execution_count": 3,
   "metadata": {},
   "outputs": [],
   "source": [
    "\n",
    "for d in dirs:\n",
    "    for file in os.listdir(f\"{d}/{d}/pdf_json\"):\n",
    "        #print(file)\n",
    "        file_path=f\"{d}/{d}/pdf_json/{file}\"\n",
    "        j=json.load(open(file_path,\"rb\"))\n",
    "        full_text=\"\"\n",
    "        abstract=j['abstract']\n",
    "        title=j['metadata']['title']\n",
    "        for text in j['body_text']:\n",
    "            full_text+=text['text']+'\\n\\n'\n",
    "        docs.append([title,abstract,full_text])\n",
    "\n",
    "df=pd.DataFrame(docs,columns=['title','abstract','full_text'])\n",
    "\n",
    "\n",
    "\n"
   ]
  },
  {
   "cell_type": "code",
   "execution_count": 4,
   "metadata": {},
   "outputs": [],
   "source": [
    "new_abstract = [] \n",
    "for value in df[\"abstract\"]: \n",
    "    if (len(value) > 0): \n",
    "        new_abstract.append(value[0]['text'])\n",
    "    else: \n",
    "        new_abstract.append(\"\") \n",
    "       \n",
    "df['abstract'] = new_abstract\n",
    "#df.head()"
   ]
  },
  {
   "cell_type": "code",
   "execution_count": 5,
   "metadata": {},
   "outputs": [],
   "source": [
    "def remove_punctuations(text):\n",
    "    for punctuation in string.punctuation:\n",
    "        text = text.replace(punctuation, '')\n",
    "    return text"
   ]
  },
  {
   "cell_type": "code",
   "execution_count": 6,
   "metadata": {},
   "outputs": [],
   "source": [
    "#Clean data-lower the dataframe, remove stopwords,tokenized text into sentence then into words\n",
    "xtitleLower = df['title'].to_string(na_rep='').lower()\n",
    "df['title'] = df['title'].str.lower()\n",
    "xtitleLower = df['abstract'].to_string(na_rep='').lower()\n",
    "df['abstract'] = df['abstract'].str.lower()\n",
    "xtitleLower = df['full_text'].to_string(na_rep='').lower()\n",
    "df['full_text'] = df['full_text'].str.lower()\n",
    "stop = stopwords.words('english')\n",
    "stemmer = SnowballStemmer('english')\n",
    "df['title'] = df['title'].apply(lambda x: ' '.join([word for word in x.split() if word not in (stop)]))\n",
    "df['abstract'] = df['abstract'].apply(lambda x: ' '.join([word for word in x.split() if word not in (stop)]))\n",
    "df['full_text'] = df['full_text'].apply(lambda x: ' '.join([word for word in x.split() if word not in (stop)]))\n",
    "df[\"title\"] = df['title'].apply(remove_punctuations)\n",
    "df[\"abstract\"] = df['abstract'].apply(remove_punctuations)\n",
    "#df[\"full_text\"] = df['full_text'].apply(remove_punctuations)\n",
    "df['title'] = df['title'].str.replace('\\d+', '')\n",
    "df['abstract'] = df['abstract'].str.replace('\\d+', '')\n",
    "df['full_text'] = df['full_text'].str.replace('\\d+', '')\n",
    "#df['stemmed'] = df['unstemmed'].apply(lambda x: [stemmer.stem(y) for y in x]) # Stem every word.\n",
    "#df = df.drop(columns=['unstemmed'])\n",
    "#print(df.head())\n",
    "arr = df.to_numpy()\n"
   ]
  },
  {
   "cell_type": "code",
   "execution_count": 7,
   "metadata": {},
   "outputs": [],
   "source": [
    "#tokenization\n",
    "for i in range(len(arr)):\n",
    "    for j in range(len(arr[i])):\n",
    "        arr[i][j] = word_tokenize(arr[i][j])\n"
   ]
  },
  {
   "cell_type": "code",
   "execution_count": 8,
   "metadata": {},
   "outputs": [
    {
     "name": "stdout",
     "output_type": "stream",
     "text": [
      "['word', 'count', '194', '22', 'text', 'word', 'count', '5168', '23', '24', '25', 'authorfunder', 'rights', 'reserved', 'reuse', 'allowed', 'without', 'permission', 'abstract', '27', 'positive', 'stranded', 'rna', 'genomes', 'picornaviruses', 'comprise', 'single', 'large', 'open', 'reading', '28', 'frame', 'flanked', '5′', '3′', 'untranslated', 'regions', 'utrs', 'footandmouth', 'disease', 'virus', 'fmdv', '29', 'unusually', 'large', '5′', 'utr', '13', 'kb', 'containing', 'five', 'structural', 'domains', 'include', '30', 'internal', 'ribosome', 'entry', 'site', 'ires', 'facilitates', 'initiation', 'translation', 'cisacting', '31', 'replication', 'element', 'cre', 'less', 'well', 'characterised', 'structures', '5′', 'terminal', '360', 'nucleotide', '32', 'stemloop', 'variable', 'length', 'polyctract', 'approximately', '100200', 'nucleotides', 'series', '33', 'two', 'four', 'tandemly', 'repeated', 'pseudoknots', 'pks', 'investigated', 'structures', 'pks', '34', 'selective', '2′', 'hydroxyl', 'acetylation', 'analysed', 'primer', 'extension', 'shape', 'analysis', '35', 'determined', 'contribution', 'genome', 'replication', 'mutation', 'deletion', 'experiments', '36', 'shape', 'mutation', 'experiments', 'confirmed', 'importance', 'previously', 'predicted', 'pk', '37', 'structures', 'function', 'deletion', 'experiments', 'showed', 'although', 'pks', 'essential', '38']\n"
     ]
    }
   ],
   "source": [
    "print(arr[0][1])"
   ]
  }
 ],
 "metadata": {
  "kernelspec": {
   "display_name": "Python 3",
   "language": "python",
   "name": "python3"
  },
  "language_info": {
   "codemirror_mode": {
    "name": "ipython",
    "version": 3
   },
   "file_extension": ".py",
   "mimetype": "text/x-python",
   "name": "python",
   "nbconvert_exporter": "python",
   "pygments_lexer": "ipython3",
   "version": "3.8.0"
  }
 },
 "nbformat": 4,
 "nbformat_minor": 4
}
